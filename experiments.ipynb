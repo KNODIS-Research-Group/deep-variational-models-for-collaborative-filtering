{
 "cells": [
  {
   "cell_type": "markdown",
   "metadata": {},
   "source": [
    "# Deep Variational Models for Collaborative Filtering-based Recommender Systems"
   ]
  },
  {
   "cell_type": "markdown",
   "metadata": {},
   "source": [
    "## Experimental setup"
   ]
  },
  {
   "cell_type": "markdown",
   "metadata": {},
   "source": [
    "First of all, we include required libreries."
   ]
  },
  {
   "cell_type": "code",
   "execution_count": 1,
   "metadata": {
    "ExecuteTime": {
     "end_time": "2021-07-07T13:40:04.669354Z",
     "start_time": "2021-07-07T13:40:01.041415Z"
    }
   },
   "outputs": [],
   "source": [
    "import pandas as pd\n",
    "import numpy as np\n",
    "import matplotlib.pyplot as plt\n",
    "import tensorflow as tf\n",
    "\n",
    "from keras.models import Model, Sequential\n",
    "from keras.layers import Embedding, Flatten, Input, Dropout, Dense, Concatenate, Dot, Lambda\n",
    "from keras.optimizers import Adam\n",
    "from keras import backend as K\n",
    "\n",
    "from sklearn.metrics import precision_score, recall_score, ndcg_score, mean_absolute_error, mean_squared_error, r2_score"
   ]
  },
  {
   "cell_type": "markdown",
   "metadata": {},
   "source": [
    "Now, we configure the parameters of the experiments. Please, note that each cell contains the configuration for one dataset. Run only the cell of the dataset that you want to evaluate."
   ]
  },
  {
   "cell_type": "code",
   "execution_count": null,
   "metadata": {
    "ExecuteTime": {
     "end_time": "2021-06-16T09:05:57.229155Z",
     "start_time": "2021-06-16T09:05:57.224750Z"
    }
   },
   "outputs": [],
   "source": [
    "dataset = 'ml1m'\n",
    "latent_dim = 5\n",
    "like_threshold = 4\n",
    "steps_per_epoch = None\n",
    "\n",
    "deepmf_epochs = 10\n",
    "ncf_epochs = 10\n",
    "vdeepmf_epochs = 6\n",
    "vncf_epochs = 9"
   ]
  },
  {
   "cell_type": "code",
   "execution_count": null,
   "metadata": {
    "ExecuteTime": {
     "end_time": "2021-06-16T22:15:11.096671Z",
     "start_time": "2021-06-16T22:15:11.090720Z"
    }
   },
   "outputs": [],
   "source": [
    "dataset = 'ft'\n",
    "latent_dim = 5\n",
    "like_threshold = 3\n",
    "steps_per_epoch = None\n",
    "\n",
    "deepmf_epochs = 15\n",
    "ncf_epochs = 8\n",
    "vdeepmf_epochs = 10\n",
    "vncf_epochs = 6"
   ]
  },
  {
   "cell_type": "code",
   "execution_count": null,
   "metadata": {
    "ExecuteTime": {
     "end_time": "2021-06-21T22:18:05.634066Z",
     "start_time": "2021-06-21T22:18:05.630275Z"
    }
   },
   "outputs": [],
   "source": [
    "dataset = 'anime'\n",
    "latent_dim = 7\n",
    "like_threshold = 8\n",
    "steps_per_epoch = None\n",
    "\n",
    "deepmf_epochs = 20\n",
    "ncf_epochs = 15\n",
    "vdeepmf_epochs = 9\n",
    "vncf_epochs = 9"
   ]
  },
  {
   "cell_type": "code",
   "execution_count": 2,
   "metadata": {
    "ExecuteTime": {
     "end_time": "2021-07-07T13:40:07.830425Z",
     "start_time": "2021-07-07T13:40:07.824208Z"
    }
   },
   "outputs": [],
   "source": [
    "dataset = 'netflix'\n",
    "latent_dim = 6\n",
    "like_threshold = 4\n",
    "steps_per_epoch = 200000\n",
    "\n",
    "deepmf_epochs = 5\n",
    "ncf_epochs = 4\n",
    "vdeepmf_epochs = 3\n",
    "vncf_epochs = 3"
   ]
  },
  {
   "cell_type": "markdown",
   "metadata": {},
   "source": [
    "Dataset loading."
   ]
  },
  {
   "cell_type": "code",
   "execution_count": 3,
   "metadata": {
    "ExecuteTime": {
     "end_time": "2021-07-07T13:40:40.702088Z",
     "start_time": "2021-07-07T13:40:10.516246Z"
    }
   },
   "outputs": [],
   "source": [
    "df = pd.read_csv('./datasets/' + dataset + '.csv', delimiter = ',')\n",
    "\n",
    "num_users = df.user.max() + 1\n",
    "num_items = df.item.max() + 1\n",
    "\n",
    "X = df[['user', 'item']].to_numpy()\n",
    "y = df[['rating']].to_numpy()"
   ]
  },
  {
   "cell_type": "markdown",
   "metadata": {},
   "source": [
    "Dataset split into train and test partitions."
   ]
  },
  {
   "cell_type": "code",
   "execution_count": 4,
   "metadata": {
    "ExecuteTime": {
     "end_time": "2021-07-07T13:40:56.009869Z",
     "start_time": "2021-07-07T13:40:40.705763Z"
    }
   },
   "outputs": [],
   "source": [
    "from sklearn.model_selection import train_test_split\n",
    "\n",
    "X_train, X_test, y_train, y_test = train_test_split(X, y, test_size=0.20, random_state=42)\n",
    "\n",
    "X_train = [X_train[:,0], X_train[:,1]]\n",
    "X_test = [X_test[:,0], X_test[:,1]]"
   ]
  },
  {
   "cell_type": "markdown",
   "metadata": {},
   "source": [
    "## Neural based Collaborative Filtering models definition"
   ]
  },
  {
   "cell_type": "markdown",
   "metadata": {},
   "source": [
    "### State of the art models"
   ]
  },
  {
   "cell_type": "markdown",
   "metadata": {},
   "source": [
    "#### DeepMF"
   ]
  },
  {
   "cell_type": "markdown",
   "metadata": {},
   "source": [
    "Model architecture:"
   ]
  },
  {
   "cell_type": "code",
   "execution_count": 5,
   "metadata": {
    "ExecuteTime": {
     "end_time": "2021-07-07T13:40:58.389331Z",
     "start_time": "2021-07-07T13:40:56.014136Z"
    }
   },
   "outputs": [],
   "source": [
    "user_input = Input(shape=[1])\n",
    "user_embedding = Embedding(num_users, latent_dim)(user_input)\n",
    "user_vec = Flatten()(user_embedding)\n",
    "\n",
    "item_input = Input(shape=[1])\n",
    "item_embedding = Embedding(num_items, latent_dim)(item_input)\n",
    "item_vec = Flatten()(item_embedding) \n",
    "        \n",
    "dot = Dot(axes=1)([item_vec, user_vec])\n",
    "    \n",
    "DeepMF = Model([user_input, item_input], dot)  "
   ]
  },
  {
   "cell_type": "markdown",
   "metadata": {},
   "source": [
    "Model fitting using GPU:"
   ]
  },
  {
   "cell_type": "code",
   "execution_count": null,
   "metadata": {
    "ExecuteTime": {
     "end_time": "2021-07-07T18:42:58.816892Z",
     "start_time": "2021-07-07T13:40:58.392078Z"
    }
   },
   "outputs": [],
   "source": [
    "with tf.device('/GPU:0'):\n",
    "    DeepMF.compile(optimizer='adam', metrics=['mae'], loss='mean_squared_error')\n",
    "    DeepMF.summary()\n",
    "\n",
    "    deepmf_report = DeepMF.fit(X_train, y_train, validation_data=(X_test, y_test), epochs=deepmf_epochs, steps_per_epoch=steps_per_epoch, verbose=1)"
   ]
  },
  {
   "cell_type": "markdown",
   "metadata": {},
   "source": [
    "#### NCF"
   ]
  },
  {
   "cell_type": "markdown",
   "metadata": {},
   "source": [
    "Model architecture:"
   ]
  },
  {
   "cell_type": "code",
   "execution_count": 7,
   "metadata": {
    "ExecuteTime": {
     "end_time": "2021-07-07T18:42:58.970577Z",
     "start_time": "2021-07-07T18:42:58.820176Z"
    }
   },
   "outputs": [],
   "source": [
    "item_input = Input(shape=[1], name='item-input')\n",
    "item_embedding = Embedding(num_items, latent_dim, name='item-embedding')(item_input)\n",
    "item_vec = Flatten(name='item-flatten')(item_embedding)\n",
    "\n",
    "user_input = Input(shape=[1], name='user-input')\n",
    "user_embedding = Embedding(num_users, latent_dim, name='user-embedding')(user_input)\n",
    "user_vec = Flatten(name='user-flatten')(user_embedding)\n",
    "\n",
    "concat = Concatenate(axis=1, name='item-user-concat')([item_vec, user_vec])\n",
    "fc_1 = Dense(70, name='fc-1', activation='relu')(concat)\n",
    "fc_1_dropout = Dropout(0.5, name='fc-1-dropout')(fc_1)\n",
    "fc_2 = Dense(30, name='fc-2', activation='relu')(fc_1_dropout)\n",
    "fc_2_dropout = Dropout(0.4, name='fc-2-dropout')(fc_2)\n",
    "fc_3 = Dense(1, name='fc-3', activation='relu')(fc_2_dropout)\n",
    "\n",
    "NCF = Model([user_input, item_input], fc_3)"
   ]
  },
  {
   "cell_type": "markdown",
   "metadata": {},
   "source": [
    "Model fitting using GPU:"
   ]
  },
  {
   "cell_type": "code",
   "execution_count": null,
   "metadata": {
    "ExecuteTime": {
     "end_time": "2021-07-07T22:52:44.493423Z",
     "start_time": "2021-07-07T18:42:58.973379Z"
    }
   },
   "outputs": [],
   "source": [
    "with tf.device('/GPU:0'):\n",
    "    NCF.compile(optimizer='adam', metrics=['mae'], loss='mean_squared_error')\n",
    "    NCF.summary()\n",
    "    \n",
    "    ncf_report = NCF.fit(X_train, y_train, validation_data=(X_test, y_test), epochs=ncf_epochs, steps_per_epoch=steps_per_epoch, verbose=1)"
   ]
  },
  {
   "cell_type": "markdown",
   "metadata": {},
   "source": [
    "### Proposed models"
   ]
  },
  {
   "cell_type": "markdown",
   "metadata": {},
   "source": [
    "#### VDeepMF"
   ]
  },
  {
   "cell_type": "markdown",
   "metadata": {},
   "source": [
    "Model architecture:"
   ]
  },
  {
   "cell_type": "code",
   "execution_count": 9,
   "metadata": {
    "ExecuteTime": {
     "end_time": "2021-07-07T22:52:44.644848Z",
     "start_time": "2021-07-07T22:52:44.496576Z"
    }
   },
   "outputs": [],
   "source": [
    "batch_size = 32\n",
    "\n",
    "def sampling(args):\n",
    "    z_mean, z_var = args\n",
    "    epsilon = K.random_normal(shape=(batch_size, latent_dim), mean=0., stddev=1)\n",
    "    return z_mean + K.exp(z_var) * epsilon\n",
    "\n",
    "user_input = Input(shape=[1])\n",
    "user_embedding = Embedding(num_users, latent_dim)(user_input)\n",
    "user_embedding_mean = Dense(latent_dim)(user_embedding)\n",
    "user_embedding_var = Dense(latent_dim)(user_embedding)\n",
    "user_embedding_z = Lambda(sampling)([user_embedding_mean, user_embedding_var])\n",
    "user_vec = Flatten()(user_embedding_z)\n",
    "\n",
    "item_input = Input(shape=[1])\n",
    "item_embedding = Embedding(num_items, latent_dim)(item_input)\n",
    "item_embedding_mean = Dense(latent_dim)(item_embedding)\n",
    "item_embedding_var = Dense(latent_dim)(item_embedding)\n",
    "item_embedding_z = Lambda(sampling)([item_embedding_mean, item_embedding_var], latent_dim)\n",
    "item_vec = Flatten()(item_embedding_z)\n",
    "\n",
    "dot = Dot(axes=1)([item_vec, user_vec])\n",
    "\n",
    "VDeepMF = Model([user_input, item_input], dot)   "
   ]
  },
  {
   "cell_type": "markdown",
   "metadata": {},
   "source": [
    "Model fitting using GPU:"
   ]
  },
  {
   "cell_type": "code",
   "execution_count": null,
   "metadata": {
    "ExecuteTime": {
     "end_time": "2021-07-08T02:16:56.461697Z",
     "start_time": "2021-07-07T22:52:44.649275Z"
    }
   },
   "outputs": [],
   "source": [
    "with tf.device('/GPU:0'):\n",
    "    VDeepMF.compile(optimizer='adam', metrics=['mae'], loss='mean_squared_error')\n",
    "    VDeepMF.summary()\n",
    "\n",
    "    vdeepmf_report = VDeepMF.fit(X_train, y_train, validation_data=(X_test, y_test), epochs=vdeepmf_epochs, batch_size=batch_size, steps_per_epoch=steps_per_epoch, verbose=1)"
   ]
  },
  {
   "cell_type": "markdown",
   "metadata": {},
   "source": [
    "#### VNCF"
   ]
  },
  {
   "cell_type": "markdown",
   "metadata": {},
   "source": [
    "Model architecture:"
   ]
  },
  {
   "cell_type": "code",
   "execution_count": 11,
   "metadata": {
    "ExecuteTime": {
     "end_time": "2021-07-08T02:16:56.658618Z",
     "start_time": "2021-07-08T02:16:56.465623Z"
    }
   },
   "outputs": [],
   "source": [
    "batch_size = 32\n",
    "\n",
    "def sampling(args):\n",
    "    z_mean, z_var = args\n",
    "    epsilon = K.random_normal(shape=(batch_size, latent_dim), mean=0., stddev=1)\n",
    "    return z_mean + K.exp(z_var) * epsilon\n",
    "\n",
    "user_input = Input(shape=[1])\n",
    "user_embedding = Embedding(num_users, latent_dim)(user_input)\n",
    "user_embedding_mean = Dense(latent_dim)(user_embedding)\n",
    "user_embedding_var = Dense(latent_dim)(user_embedding)\n",
    "user_embedding_z = Lambda(sampling)([user_embedding_mean, user_embedding_var])\n",
    "user_vec = Flatten()(user_embedding_z)\n",
    "\n",
    "item_input = Input(shape=[1])\n",
    "item_embedding = Embedding(num_items + 1, latent_dim)(item_input)\n",
    "item_embedding_mean = Dense(latent_dim)(item_embedding)\n",
    "item_embedding_var = Dense(latent_dim)(item_embedding)\n",
    "item_embedding_z = Lambda(sampling)([item_embedding_mean, item_embedding_var], latent_dim)\n",
    "item_vec = Flatten()(item_embedding_z)\n",
    "\n",
    "concat = Concatenate(axis=1)([item_vec, user_vec])\n",
    "\n",
    "fc_1 = Dense(80, name='fc-1', activation='relu')(concat)\n",
    "fc_1_dropout = Dropout(0.6, name='fc-1-dropout')(fc_1)\n",
    "fc_2 = Dense(25, name='fc-2', activation='relu')(fc_1_dropout)\n",
    "fc_2_dropout = Dropout(0.4, name='fc-2-dropout')(fc_2)\n",
    "fc_3 = Dense(1, name='fc-3', activation='relu')(fc_2_dropout)\n",
    "\n",
    "VNCF = Model([user_input, item_input], fc_3)"
   ]
  },
  {
   "cell_type": "markdown",
   "metadata": {},
   "source": [
    "Model fitting using GPU:"
   ]
  },
  {
   "cell_type": "code",
   "execution_count": null,
   "metadata": {
    "ExecuteTime": {
     "end_time": "2021-07-08T05:51:00.352877Z",
     "start_time": "2021-07-08T02:16:56.661376Z"
    }
   },
   "outputs": [],
   "source": [
    "with tf.device('/GPU:0'):\n",
    "    VNCF.compile(optimizer='adam', metrics=['mae'], loss='mean_squared_error')\n",
    "    VNCF.summary()\n",
    "\n",
    "    vncf_report = VNCF.fit(X_train, y_train, validation_data=(X_test, y_test), epochs=vncf_epochs, batch_size=batch_size, steps_per_epoch=steps_per_epoch, verbose=1)"
   ]
  },
  {
   "cell_type": "markdown",
   "metadata": {},
   "source": [
    "## Experimental results"
   ]
  },
  {
   "cell_type": "code",
   "execution_count": 13,
   "metadata": {
    "ExecuteTime": {
     "end_time": "2021-07-08T05:51:00.360687Z",
     "start_time": "2021-07-08T05:51:00.356349Z"
    }
   },
   "outputs": [],
   "source": [
    "methods = ['vdeepmf', 'deepmf', 'vncf', 'ncf']"
   ]
  },
  {
   "cell_type": "code",
   "execution_count": 14,
   "metadata": {
    "ExecuteTime": {
     "end_time": "2021-07-08T05:51:02.957241Z",
     "start_time": "2021-07-08T05:51:00.364161Z"
    }
   },
   "outputs": [],
   "source": [
    "preds = pd.DataFrame()\n",
    "\n",
    "preds['user'] = X_test[0]\n",
    "preds['item'] = X_test[1]\n",
    "\n",
    "preds['y_test'] = y_test"
   ]
  },
  {
   "cell_type": "markdown",
   "metadata": {},
   "source": [
    "Store predictions of the baselines:"
   ]
  },
  {
   "cell_type": "code",
   "execution_count": 15,
   "metadata": {
    "ExecuteTime": {
     "end_time": "2021-07-08T05:59:00.951069Z",
     "start_time": "2021-07-08T05:51:02.959976Z"
    }
   },
   "outputs": [],
   "source": [
    "preds['deepmf'] = DeepMF.predict(X_test)"
   ]
  },
  {
   "cell_type": "code",
   "execution_count": 16,
   "metadata": {
    "ExecuteTime": {
     "end_time": "2021-07-08T06:08:57.272523Z",
     "start_time": "2021-07-08T05:59:00.954339Z"
    }
   },
   "outputs": [],
   "source": [
    "preds['ncf'] = NCF.predict(X_test)"
   ]
  },
  {
   "cell_type": "markdown",
   "metadata": {},
   "source": [
    "Due to the variational approachs of the proposed methods, the same model can generates different predictions for the same `<user, item>` input. To avoid this, we compute the predictions of the proposed models as the average of 10 repetitions of the same prediction."
   ]
  },
  {
   "cell_type": "code",
   "execution_count": 17,
   "metadata": {
    "ExecuteTime": {
     "end_time": "2021-07-08T06:08:57.279793Z",
     "start_time": "2021-07-08T06:08:57.275928Z"
    }
   },
   "outputs": [],
   "source": [
    "n_repeats = 10"
   ]
  },
  {
   "cell_type": "code",
   "execution_count": 18,
   "metadata": {
    "ExecuteTime": {
     "end_time": "2021-07-08T08:44:40.766176Z",
     "start_time": "2021-07-08T06:08:57.281973Z"
    }
   },
   "outputs": [],
   "source": [
    "predictions = None\n",
    "\n",
    "for i in range(n_repeats):\n",
    "    if i == 0:\n",
    "        predictions = VDeepMF.predict(X_test)\n",
    "    else:\n",
    "        predictions = np.append(predictions, VDeepMF.predict(X_test), axis=1)\n",
    "        \n",
    "preds['vdeepmf'] = np.mean(predictions, axis=1)"
   ]
  },
  {
   "cell_type": "code",
   "execution_count": 19,
   "metadata": {
    "ExecuteTime": {
     "end_time": "2021-07-08T11:48:41.209716Z",
     "start_time": "2021-07-08T08:44:40.769562Z"
    }
   },
   "outputs": [],
   "source": [
    "predictions = None\n",
    "\n",
    "for i in range(n_repeats):\n",
    "    if i == 0:\n",
    "        predictions = VNCF.predict(X_test)\n",
    "    else:\n",
    "        predictions = np.append(predictions, VNCF.predict(X_test), axis=1)\n",
    "\n",
    "preds['vncf'] = np.mean(predictions, axis=1)"
   ]
  },
  {
   "cell_type": "markdown",
   "metadata": {},
   "source": [
    "### Quality of the predictions"
   ]
  },
  {
   "cell_type": "code",
   "execution_count": null,
   "metadata": {
    "ExecuteTime": {
     "end_time": "2021-06-26T20:41:58.783519Z",
     "start_time": "2021-06-26T20:41:55.771924Z"
    }
   },
   "outputs": [],
   "source": [
    "print('MAE:')\n",
    "for m in methods:\n",
    "    print('-', m, ':', mean_absolute_error(preds['y_test'], preds[m]))\n",
    "\n",
    "print('MSD:')\n",
    "for m in methods:\n",
    "    print('-', m, ':', mean_squared_error(preds['y_test'], preds[m]))\n",
    "\n",
    "print('R2:')\n",
    "for m in methods:\n",
    "    print('-', m, ':', r2_score(preds['y_test'], preds[m]))"
   ]
  },
  {
   "cell_type": "markdown",
   "metadata": {
    "ExecuteTime": {
     "end_time": "2021-06-14T10:14:41.698310Z",
     "start_time": "2021-06-14T10:14:41.694737Z"
    }
   },
   "source": [
    "### Quality of the recommendations"
   ]
  },
  {
   "cell_type": "code",
   "execution_count": 22,
   "metadata": {
    "ExecuteTime": {
     "end_time": "2021-07-11T14:03:21.910115Z",
     "start_time": "2021-07-11T14:03:21.899812Z"
    }
   },
   "outputs": [],
   "source": [
    "num_recommendations = [2,3,4,5,6,7,8,9,10]"
   ]
  },
  {
   "cell_type": "markdown",
   "metadata": {},
   "source": [
    "#### Precision & recall"
   ]
  },
  {
   "cell_type": "code",
   "execution_count": 39,
   "metadata": {
    "ExecuteTime": {
     "end_time": "2021-06-26T20:41:58.801502Z",
     "start_time": "2021-06-26T20:41:58.791908Z"
    }
   },
   "outputs": [],
   "source": [
    "def recommender_precision_recall(X, y_true, y_pred, N, threshold):\n",
    "    precision = 0\n",
    "    recall = 0\n",
    "    count = 0\n",
    "    \n",
    "    rec_true = np.array([1 if rating >= threshold else 0 for rating in y_true])\n",
    "    rec_pred = np.zeros(y_pred.size)\n",
    "    \n",
    "    for user_id in np.unique(X[:,0]):\n",
    "        indices = np.where(X[:,0] == user_id)[0]\n",
    "        \n",
    "        rec_true = np.array([1 if y_true[i] >= threshold else 0 for i in indices])\n",
    "\n",
    "        if (np.count_nonzero(rec_true) > 0): # ignore test users without relevant ratings\n",
    "        \n",
    "            user_pred = np.array([y_pred[i] for i in indices])\n",
    "            rec_pred = np.zeros(indices.size)\n",
    "\n",
    "            for pos in np.argsort(user_pred)[-N:]:\n",
    "                if user_pred[pos] >= threshold:\n",
    "                    rec_pred[pos] = 1\n",
    "            \n",
    "            precision += precision_score(rec_true, rec_pred, zero_division=0)\n",
    "            recall += recall_score(rec_true, rec_pred)\n",
    "            count += 1\n",
    "        \n",
    "    return precision/count, recall/count"
   ]
  },
  {
   "cell_type": "code",
   "execution_count": null,
   "metadata": {
    "ExecuteTime": {
     "end_time": "2021-07-03T01:27:56.305324Z",
     "start_time": "2021-06-26T20:41:58.804113Z"
    }
   },
   "outputs": [],
   "source": [
    "for m in methods:\n",
    "    precision = np.zeros(len(num_recommendations))\n",
    "    recall = np.zeros(len(num_recommendations))\n",
    "    \n",
    "    for i, n in enumerate(num_recommendations):\n",
    "        ids = preds[['user', 'item']].to_numpy()\n",
    "        y_true = preds['y_test'].to_numpy()\n",
    "        y_pred = preds[m].to_numpy()\n",
    "        precision[i], recall[i] = recommender_precision_recall(ids, y_true, y_pred, n, like_threshold) \n",
    "\n",
    "    c = 'blue' if 'deepmf' in m else 'red'\n",
    "    alpha = 1 if m[0] == 'v' else 0.6\n",
    "    ls = '-' if m[0] == 'v' else '--'\n",
    "        \n",
    "    plt.plot(recall, precision, c=c, ls=ls, alpha=alpha, label=m)\n",
    "\n",
    "    if m == 'vdeepmf':\n",
    "        for i,(r,p) in enumerate(zip(recall, precision)):\n",
    "            plt.annotate(num_recommendations[i], (r,p), textcoords=\"offset points\", xytext=(5,5), ha='center')\n",
    "    \n",
    "plt.xlabel('Recall', fontsize=15); \n",
    "plt.ylabel('Precision', fontsize=15)\n",
    "\n",
    "plt.xticks(fontsize=13)\n",
    "plt.yticks(fontsize=13)\n",
    "\n",
    "plt.legend(bbox_to_anchor=(0,1.02,1,0.2), fontsize=12, loc=\"lower left\", mode=\"expand\", borderaxespad=0, ncol=len(methods))\n",
    "\n",
    "plt.grid(True)\n",
    "\n",
    "ylim_min, ylim_max = plt.ylim()\n",
    "plt.ylim((ylim_min, ylim_max * 1.02))\n",
    "\n",
    "plt.savefig('./results/' + dataset + '-precision-recall.png', dpi=300)\n",
    "\n",
    "plt.show()"
   ]
  },
  {
   "cell_type": "markdown",
   "metadata": {},
   "source": [
    "#### NDCG"
   ]
  },
  {
   "cell_type": "code",
   "execution_count": 23,
   "metadata": {
    "ExecuteTime": {
     "end_time": "2021-07-11T14:03:25.656944Z",
     "start_time": "2021-07-11T14:03:25.645939Z"
    }
   },
   "outputs": [],
   "source": [
    "def recommender_ndcg(X, y_true, y_pred, N):\n",
    "    ndcg = 0\n",
    "    count = 0\n",
    "    \n",
    "    for user_id in np.unique(X[:,0]):\n",
    "        indices = np.where(X[:,0] == user_id)[0]\n",
    "        \n",
    "        user_true = np.array([y_true[i] for i in indices])\n",
    "        user_pred = np.array([y_pred[i] for i in indices])  \n",
    "        \n",
    "        user_true = np.expand_dims(user_true, axis=0)\n",
    "        user_pred = np.expand_dims(user_pred, axis=0)\n",
    "                \n",
    "        if user_true.size > 1:\n",
    "            ndcg += ndcg_score(user_true, user_pred, k=N, ignore_ties=False)\n",
    "            count += 1\n",
    "    \n",
    "    return ndcg / count"
   ]
  },
  {
   "cell_type": "code",
   "execution_count": null,
   "metadata": {
    "ExecuteTime": {
     "end_time": "2021-07-17T02:25:05.158939Z",
     "start_time": "2021-07-11T14:03:26.811546Z"
    }
   },
   "outputs": [],
   "source": [
    "for m in methods:\n",
    "    ndcg = np.zeros(len(num_recommendations))\n",
    "    \n",
    "    for i, n in enumerate(num_recommendations):\n",
    "        ids = preds[['user', 'item']].to_numpy()\n",
    "        y_true = preds['y_test'].to_numpy()\n",
    "        y_pred = preds[m].to_numpy()\n",
    "        ndcg[i] = recommender_ndcg(ids, y_true, y_pred, n) \n",
    "        \n",
    "    c = 'blue' if 'deepmf' in m else 'red'\n",
    "    alpha = 1 if m[0] == 'v' else 0.6\n",
    "    ls = '-' if m[0] == 'v' else '--'\n",
    " \n",
    "    plt.plot(num_recommendations, ndcg, c=c, ls=ls, alpha=alpha, label=m)\n",
    "\n",
    "plt.xlabel('Number of recommendations', fontsize=15); \n",
    "plt.ylabel('NDCG', fontsize=15)\n",
    "\n",
    "plt.xticks(fontsize=13)\n",
    "plt.yticks(fontsize=13)\n",
    "\n",
    "plt.legend(bbox_to_anchor=(0,1.02,1,0.2), fontsize=12, loc=\"lower left\", mode=\"expand\", borderaxespad=0, ncol=len(methods))\n",
    "\n",
    "plt.grid(True)\n",
    "\n",
    "plt.savefig('./results/' + dataset + '-ndcg.png', dpi=300)\n",
    "\n",
    "plt.show()"
   ]
  }
 ],
 "metadata": {
  "interpreter": {
   "hash": "31f2aee4e71d21fbe5cf8b01ff0e069b9275f58929596ceb00d14d90e3e16cd6"
  },
  "kernelspec": {
   "display_name": "Python 3.8.2 64-bit",
   "name": "python3"
  },
  "language_info": {
   "name": "python",
   "version": ""
  },
  "toc": {
   "base_numbering": 1,
   "nav_menu": {},
   "number_sections": false,
   "sideBar": true,
   "skip_h1_title": false,
   "title_cell": "Table of Contents",
   "title_sidebar": "Contents",
   "toc_cell": false,
   "toc_position": {},
   "toc_section_display": true,
   "toc_window_display": false
  }
 },
 "nbformat": 4,
 "nbformat_minor": 4
}