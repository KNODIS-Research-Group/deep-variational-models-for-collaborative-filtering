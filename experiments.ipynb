{
 "cells": [
  {
   "cell_type": "markdown",
   "metadata": {},
   "source": [
    "# Deep Variational Models for Collaborative Filtering-based Recommender Systems"
   ]
  },
  {
   "cell_type": "markdown",
   "metadata": {},
   "source": [
    "## Experimental setup"
   ]
  },
  {
   "cell_type": "markdown",
   "metadata": {},
   "source": [
    "First of all, we include required libreries."
   ]
  },
  {
   "cell_type": "code",
   "execution_count": null,
   "metadata": {
    "ExecuteTime": {
     "end_time": "2022-04-12T16:52:12.478601Z",
     "start_time": "2022-04-12T16:52:09.304695Z"
    }
   },
   "outputs": [],
   "source": [
    "import math\n",
    "import pandas as pd\n",
    "import numpy as np\n",
    "import matplotlib.pyplot as plt\n",
    "import tensorflow as tf\n",
    "\n",
    "from keras.models import Model, Sequential\n",
    "from keras.layers import Embedding, Flatten, Input, Dropout, Dense, Concatenate, Dot, Lambda\n",
    "from keras.optimizers import Adam\n",
    "from keras import backend as K\n",
    "\n",
    "from sklearn.metrics import precision_score, recall_score, ndcg_score, mean_absolute_error, mean_squared_error, r2_score"
   ]
  },
  {
   "cell_type": "markdown",
   "metadata": {},
   "source": [
    "Now, we configure the parameters of the experiments. Please, note that each cell contains the configuration for one dataset. Run only the cell of the dataset that you want to evaluate."
   ]
  },
  {
   "cell_type": "code",
   "execution_count": null,
   "metadata": {
    "ExecuteTime": {
     "end_time": "2022-04-12T16:52:12.484605Z",
     "start_time": "2022-04-12T16:52:12.481150Z"
    }
   },
   "outputs": [],
   "source": [
    "dataset = 'ml1m'\n",
    "latent_dim = 5\n",
    "like_threshold = 4\n",
    "steps_per_epoch = None\n",
    "\n",
    "deepmf_epochs = 10\n",
    "ncf_epochs = 10\n",
    "neumf_epochs = 10\n",
    "vdeepmf_epochs = 6\n",
    "vncf_epochs = 9\n",
    "vneumf_epochs = 5"
   ]
  },
  {
   "cell_type": "code",
   "execution_count": null,
   "metadata": {
    "ExecuteTime": {
     "end_time": "2022-04-12T16:52:12.490362Z",
     "start_time": "2022-04-12T16:52:12.487149Z"
    }
   },
   "outputs": [],
   "source": [
    "dataset = 'ft'\n",
    "latent_dim = 5\n",
    "like_threshold = 3\n",
    "steps_per_epoch = None\n",
    "\n",
    "deepmf_epochs = 15\n",
    "ncf_epochs = 8\n",
    "vdeepmf_epochs = 10\n",
    "vncf_epochs = 6"
   ]
  },
  {
   "cell_type": "code",
   "execution_count": null,
   "metadata": {
    "ExecuteTime": {
     "end_time": "2022-04-12T16:52:12.495292Z",
     "start_time": "2022-04-12T16:52:12.492262Z"
    }
   },
   "outputs": [],
   "source": [
    "dataset = 'anime'\n",
    "latent_dim = 7\n",
    "like_threshold = 8\n",
    "steps_per_epoch = None\n",
    "\n",
    "deepmf_epochs = 20\n",
    "ncf_epochs = 15\n",
    "vdeepmf_epochs = 9\n",
    "vncf_epochs = 9"
   ]
  },
  {
   "cell_type": "code",
   "execution_count": null,
   "metadata": {
    "ExecuteTime": {
     "end_time": "2022-04-12T16:52:12.500047Z",
     "start_time": "2022-04-12T16:52:12.497043Z"
    }
   },
   "outputs": [],
   "source": [
    "dataset = 'netflix'\n",
    "latent_dim = 6\n",
    "like_threshold = 4\n",
    "steps_per_epoch = 200000\n",
    "\n",
    "deepmf_epochs = 5\n",
    "ncf_epochs = 4\n",
    "vdeepmf_epochs = 3\n",
    "vncf_epochs = 3"
   ]
  },
  {
   "cell_type": "markdown",
   "metadata": {},
   "source": [
    "Dataset loading."
   ]
  },
  {
   "cell_type": "code",
   "execution_count": null,
   "metadata": {
    "ExecuteTime": {
     "end_time": "2022-04-12T16:52:42.168135Z",
     "start_time": "2022-04-12T16:52:12.501881Z"
    }
   },
   "outputs": [],
   "source": [
    "df = pd.read_csv('./datasets/' + dataset + '.csv', delimiter = ',')\n",
    "\n",
    "num_users = df.user.max() + 1\n",
    "num_items = df.item.max() + 1\n",
    "\n",
    "X = df[['user', 'item']].to_numpy()\n",
    "y = df[['rating']].to_numpy()"
   ]
  },
  {
   "cell_type": "markdown",
   "metadata": {},
   "source": [
    "Dataset split into train and test partitions."
   ]
  },
  {
   "cell_type": "code",
   "execution_count": null,
   "metadata": {
    "ExecuteTime": {
     "end_time": "2022-04-12T16:52:56.924850Z",
     "start_time": "2022-04-12T16:52:42.171886Z"
    }
   },
   "outputs": [],
   "source": [
    "from sklearn.model_selection import train_test_split\n",
    "\n",
    "X_train, X_test, y_train, y_test = train_test_split(X, y, test_size=0.20, random_state=42)\n",
    "\n",
    "X_train = [X_train[:,0], X_train[:,1]]\n",
    "X_test = [X_test[:,0], X_test[:,1]]"
   ]
  },
  {
   "cell_type": "markdown",
   "metadata": {},
   "source": [
    "## Neural based Collaborative Filtering models definition"
   ]
  },
  {
   "cell_type": "markdown",
   "metadata": {},
   "source": [
    "### State of the art models"
   ]
  },
  {
   "cell_type": "markdown",
   "metadata": {},
   "source": [
    "#### DeepMF"
   ]
  },
  {
   "cell_type": "markdown",
   "metadata": {},
   "source": [
    "Model architecture:"
   ]
  },
  {
   "cell_type": "code",
   "execution_count": null,
   "metadata": {
    "ExecuteTime": {
     "end_time": "2022-04-12T16:52:59.474604Z",
     "start_time": "2022-04-12T16:52:56.927768Z"
    }
   },
   "outputs": [],
   "source": [
    "user_input = Input(shape=[1])\n",
    "user_embedding = Embedding(num_users, latent_dim)(user_input)\n",
    "user_vec = Flatten()(user_embedding)\n",
    "\n",
    "item_input = Input(shape=[1])\n",
    "item_embedding = Embedding(num_items, latent_dim)(item_input)\n",
    "item_vec = Flatten()(item_embedding) \n",
    "        \n",
    "dot = Dot(axes=1)([item_vec, user_vec])\n",
    "    \n",
    "DeepMF = Model([user_input, item_input], dot)  "
   ]
  },
  {
   "cell_type": "markdown",
   "metadata": {},
   "source": [
    "Model fitting using GPU:"
   ]
  },
  {
   "cell_type": "code",
   "execution_count": null,
   "metadata": {
    "ExecuteTime": {
     "end_time": "2022-04-12T21:24:57.250415Z",
     "start_time": "2022-04-12T16:52:59.476765Z"
    }
   },
   "outputs": [],
   "source": [
    "with tf.device('/GPU:1'):\n",
    "    DeepMF.compile(optimizer='adam', metrics=['mae'], loss='mean_squared_error')\n",
    "    DeepMF.summary()\n",
    "\n",
    "    deepmf_report = DeepMF.fit(X_train, y_train, validation_data=(X_test, y_test), epochs=deepmf_epochs, steps_per_epoch=steps_per_epoch, verbose=1)"
   ]
  },
  {
   "cell_type": "markdown",
   "metadata": {},
   "source": [
    "#### NCF"
   ]
  },
  {
   "cell_type": "markdown",
   "metadata": {},
   "source": [
    "Model architecture:"
   ]
  },
  {
   "cell_type": "code",
   "execution_count": null,
   "metadata": {
    "ExecuteTime": {
     "end_time": "2022-04-12T21:24:57.408572Z",
     "start_time": "2022-04-12T21:24:57.253723Z"
    }
   },
   "outputs": [],
   "source": [
    "item_input = Input(shape=[1], name='item-input')\n",
    "item_embedding = Embedding(num_items, latent_dim, name='item-embedding')(item_input)\n",
    "item_vec = Flatten(name='item-flatten')(item_embedding)\n",
    "\n",
    "user_input = Input(shape=[1], name='user-input')\n",
    "user_embedding = Embedding(num_users, latent_dim, name='user-embedding')(user_input)\n",
    "user_vec = Flatten(name='user-flatten')(user_embedding)\n",
    "\n",
    "concat = Concatenate(axis=1, name='item-user-concat')([item_vec, user_vec])\n",
    "fc_1 = Dense(70, name='fc-1', activation='relu')(concat)\n",
    "fc_1_dropout = Dropout(0.5, name='fc-1-dropout')(fc_1)\n",
    "fc_2 = Dense(30, name='fc-2', activation='relu')(fc_1_dropout)\n",
    "fc_2_dropout = Dropout(0.4, name='fc-2-dropout')(fc_2)\n",
    "fc_3 = Dense(1, name='fc-3', activation='relu')(fc_2_dropout)\n",
    "\n",
    "NCF = Model([user_input, item_input], fc_3)"
   ]
  },
  {
   "cell_type": "markdown",
   "metadata": {},
   "source": [
    "Model fitting using GPU:"
   ]
  },
  {
   "cell_type": "code",
   "execution_count": null,
   "metadata": {
    "ExecuteTime": {
     "end_time": "2022-04-13T01:05:54.832552Z",
     "start_time": "2022-04-12T21:24:57.411133Z"
    }
   },
   "outputs": [],
   "source": [
    "with tf.device('/GPU:1'):\n",
    "    NCF.compile(optimizer='adam', metrics=['mae'], loss='mean_squared_error')\n",
    "    NCF.summary()\n",
    "    \n",
    "    ncf_report = NCF.fit(X_train, y_train, validation_data=(X_test, y_test), epochs=ncf_epochs, steps_per_epoch=steps_per_epoch, verbose=1)"
   ]
  },
  {
   "cell_type": "markdown",
   "metadata": {},
   "source": [
    "### Proposed models"
   ]
  },
  {
   "cell_type": "markdown",
   "metadata": {},
   "source": [
    "#### VDeepMF"
   ]
  },
  {
   "cell_type": "markdown",
   "metadata": {},
   "source": [
    "Model architecture:"
   ]
  },
  {
   "cell_type": "code",
   "execution_count": null,
   "metadata": {
    "ExecuteTime": {
     "end_time": "2022-04-13T01:05:55.031996Z",
     "start_time": "2022-04-13T01:05:54.835960Z"
    }
   },
   "outputs": [],
   "source": [
    "batch_size = 32\n",
    "\n",
    "def sampling(args):\n",
    "    z_mean, z_var = args\n",
    "    epsilon = K.random_normal(shape=(batch_size, latent_dim), mean=0., stddev=1)\n",
    "    return z_mean + K.exp(z_var) * epsilon\n",
    "\n",
    "user_input = Input(shape=[1])\n",
    "user_embedding = Embedding(num_users, latent_dim)(user_input)\n",
    "user_embedding_mean = Dense(latent_dim)(user_embedding)\n",
    "user_embedding_var = Dense(latent_dim)(user_embedding)\n",
    "user_embedding_z = Lambda(sampling)([user_embedding_mean, user_embedding_var])\n",
    "user_vec = Flatten()(user_embedding_z)\n",
    "\n",
    "item_input = Input(shape=[1])\n",
    "item_embedding = Embedding(num_items, latent_dim)(item_input)\n",
    "item_embedding_mean = Dense(latent_dim)(item_embedding)\n",
    "item_embedding_var = Dense(latent_dim)(item_embedding)\n",
    "item_embedding_z = Lambda(sampling)([item_embedding_mean, item_embedding_var], latent_dim)\n",
    "item_vec = Flatten()(item_embedding_z)\n",
    "\n",
    "dot = Dot(axes=1)([item_vec, user_vec])\n",
    "\n",
    "VDeepMF = Model([user_input, item_input], dot)   "
   ]
  },
  {
   "cell_type": "markdown",
   "metadata": {},
   "source": [
    "Model fitting using GPU:"
   ]
  },
  {
   "cell_type": "code",
   "execution_count": null,
   "metadata": {
    "ExecuteTime": {
     "end_time": "2022-04-13T04:02:22.328609Z",
     "start_time": "2022-04-13T01:05:55.034506Z"
    }
   },
   "outputs": [],
   "source": [
    "with tf.device('/GPU:1'):\n",
    "    VDeepMF.compile(optimizer='adam', metrics=['mae'], loss='mean_squared_error')\n",
    "    VDeepMF.summary()\n",
    "\n",
    "    vdeepmf_report = VDeepMF.fit(X_train, y_train, validation_data=(X_test, y_test), epochs=vdeepmf_epochs, batch_size=batch_size, steps_per_epoch=steps_per_epoch, verbose=1)"
   ]
  },
  {
   "cell_type": "markdown",
   "metadata": {},
   "source": [
    "#### VNCF"
   ]
  },
  {
   "cell_type": "markdown",
   "metadata": {},
   "source": [
    "Model architecture:"
   ]
  },
  {
   "cell_type": "code",
   "execution_count": null,
   "metadata": {
    "ExecuteTime": {
     "end_time": "2022-04-13T04:02:22.536071Z",
     "start_time": "2022-04-13T04:02:22.331802Z"
    }
   },
   "outputs": [],
   "source": [
    "batch_size = 32\n",
    "\n",
    "def sampling(args):\n",
    "    z_mean, z_var = args\n",
    "    epsilon = K.random_normal(shape=(batch_size, latent_dim), mean=0., stddev=1)\n",
    "    return z_mean + K.exp(z_var) * epsilon\n",
    "\n",
    "user_input = Input(shape=[1])\n",
    "user_embedding = Embedding(num_users, latent_dim)(user_input)\n",
    "user_embedding_mean = Dense(latent_dim)(user_embedding)\n",
    "user_embedding_var = Dense(latent_dim)(user_embedding)\n",
    "user_embedding_z = Lambda(sampling)([user_embedding_mean, user_embedding_var])\n",
    "user_vec = Flatten()(user_embedding_z)\n",
    "\n",
    "item_input = Input(shape=[1])\n",
    "item_embedding = Embedding(num_items + 1, latent_dim)(item_input)\n",
    "item_embedding_mean = Dense(latent_dim)(item_embedding)\n",
    "item_embedding_var = Dense(latent_dim)(item_embedding)\n",
    "item_embedding_z = Lambda(sampling)([item_embedding_mean, item_embedding_var], latent_dim)\n",
    "item_vec = Flatten()(item_embedding_z)\n",
    "\n",
    "concat = Concatenate(axis=1)([item_vec, user_vec])\n",
    "\n",
    "fc_1 = Dense(80, name='fc-1', activation='relu')(concat)\n",
    "fc_1_dropout = Dropout(0.6, name='fc-1-dropout')(fc_1)\n",
    "fc_2 = Dense(25, name='fc-2', activation='relu')(fc_1_dropout)\n",
    "fc_2_dropout = Dropout(0.4, name='fc-2-dropout')(fc_2)\n",
    "fc_3 = Dense(1, name='fc-3', activation='relu')(fc_2_dropout)\n",
    "\n",
    "VNCF = Model([user_input, item_input], fc_3)"
   ]
  },
  {
   "cell_type": "markdown",
   "metadata": {},
   "source": [
    "Model fitting using GPU:"
   ]
  },
  {
   "cell_type": "code",
   "execution_count": null,
   "metadata": {
    "ExecuteTime": {
     "end_time": "2022-04-13T07:08:21.634097Z",
     "start_time": "2022-04-13T04:02:22.538304Z"
    }
   },
   "outputs": [],
   "source": [
    "with tf.device('/GPU:1'):\n",
    "    VNCF.compile(optimizer='adam', metrics=['mae'], loss='mean_squared_error')\n",
    "    VNCF.summary()\n",
    "\n",
    "    vncf_report = VNCF.fit(X_train, y_train, validation_data=(X_test, y_test), epochs=vncf_epochs, batch_size=batch_size, steps_per_epoch=steps_per_epoch, verbose=1)"
   ]
  },
  {
   "cell_type": "markdown",
   "metadata": {},
   "source": [
    "## Experimental results"
   ]
  },
  {
   "cell_type": "code",
   "execution_count": null,
   "metadata": {
    "ExecuteTime": {
     "end_time": "2022-04-13T07:08:21.641137Z",
     "start_time": "2022-04-13T07:08:21.637286Z"
    }
   },
   "outputs": [],
   "source": [
    "methods = ['vdeepmf', 'deepmf', 'vncf', 'ncf']"
   ]
  },
  {
   "cell_type": "code",
   "execution_count": null,
   "metadata": {
    "ExecuteTime": {
     "end_time": "2022-04-13T07:08:24.202351Z",
     "start_time": "2022-04-13T07:08:21.643135Z"
    }
   },
   "outputs": [],
   "source": [
    "preds = pd.DataFrame()\n",
    "\n",
    "preds['user'] = X_test[0]\n",
    "preds['item'] = X_test[1]\n",
    "\n",
    "preds['y_test'] = y_test"
   ]
  },
  {
   "cell_type": "code",
   "execution_count": null,
   "metadata": {
    "ExecuteTime": {
     "end_time": "2022-04-21T21:50:43.036438Z",
     "start_time": "2022-04-21T21:50:43.031511Z"
    }
   },
   "outputs": [],
   "source": [
    "y_true = preds['y_test'].to_numpy()"
   ]
  },
  {
   "cell_type": "markdown",
   "metadata": {},
   "source": [
    "Store predictions of the baselines:"
   ]
  },
  {
   "cell_type": "code",
   "execution_count": null,
   "metadata": {
    "ExecuteTime": {
     "end_time": "2022-04-13T07:14:25.754886Z",
     "start_time": "2022-04-13T07:08:24.204570Z"
    }
   },
   "outputs": [],
   "source": [
    "preds['deepmf'] = DeepMF.predict(X_test)"
   ]
  },
  {
   "cell_type": "code",
   "execution_count": null,
   "metadata": {
    "ExecuteTime": {
     "end_time": "2022-04-13T07:21:47.635198Z",
     "start_time": "2022-04-13T07:14:25.757737Z"
    }
   },
   "outputs": [],
   "source": [
    "preds['ncf'] = NCF.predict(X_test)"
   ]
  },
  {
   "cell_type": "markdown",
   "metadata": {},
   "source": [
    "Due to the variational approachs of the proposed methods, the same model can generates different predictions for the same `<user, item>` input. To avoid this, we compute the predictions of the proposed models as the average of 10 repetitions of the same prediction."
   ]
  },
  {
   "cell_type": "code",
   "execution_count": null,
   "metadata": {
    "ExecuteTime": {
     "end_time": "2022-04-13T07:21:47.640996Z",
     "start_time": "2022-04-13T07:21:47.637846Z"
    }
   },
   "outputs": [],
   "source": [
    "n_repeats = 10"
   ]
  },
  {
   "cell_type": "code",
   "execution_count": null,
   "metadata": {
    "ExecuteTime": {
     "end_time": "2022-04-13T09:08:29.940372Z",
     "start_time": "2022-04-13T07:21:47.642907Z"
    }
   },
   "outputs": [],
   "source": [
    "predictions = None\n",
    "\n",
    "for i in range(n_repeats):\n",
    "    if i == 0:\n",
    "        predictions = VDeepMF.predict(X_test)\n",
    "    else:\n",
    "        predictions = np.append(predictions, VDeepMF.predict(X_test), axis=1)\n",
    "        \n",
    "preds['vdeepmf'] = np.mean(predictions, axis=1)"
   ]
  },
  {
   "cell_type": "code",
   "execution_count": null,
   "metadata": {
    "ExecuteTime": {
     "end_time": "2022-04-13T11:07:24.722690Z",
     "start_time": "2022-04-13T09:08:29.946330Z"
    }
   },
   "outputs": [],
   "source": [
    "predictions = None\n",
    "\n",
    "for i in range(n_repeats):\n",
    "    if i == 0:\n",
    "        predictions = VNCF.predict(X_test)\n",
    "    else:\n",
    "        predictions = np.append(predictions, VNCF.predict(X_test), axis=1)\n",
    "\n",
    "preds['vncf'] = np.mean(predictions, axis=1)"
   ]
  },
  {
   "cell_type": "markdown",
   "metadata": {},
   "source": [
    "### Quality of the predictions"
   ]
  },
  {
   "cell_type": "code",
   "execution_count": null,
   "metadata": {
    "ExecuteTime": {
     "end_time": "2022-04-13T11:07:27.506661Z",
     "start_time": "2022-04-13T11:07:24.725972Z"
    }
   },
   "outputs": [],
   "source": [
    "print('MAE:')\n",
    "for m in methods:\n",
    "    print('-', m, ':', mean_absolute_error(preds['y_test'], preds[m]))\n",
    "\n",
    "print('MSD:')\n",
    "for m in methods:\n",
    "    print('-', m, ':', mean_squared_error(preds['y_test'], preds[m]))\n",
    "\n",
    "print('R2:')\n",
    "for m in methods:\n",
    "    print('-', m, ':', r2_score(preds['y_test'], preds[m]))"
   ]
  },
  {
   "cell_type": "markdown",
   "metadata": {
    "ExecuteTime": {
     "end_time": "2021-06-14T10:14:41.698310Z",
     "start_time": "2021-06-14T10:14:41.694737Z"
    }
   },
   "source": [
    "### Quality of the recommendations"
   ]
  },
  {
   "cell_type": "code",
   "execution_count": null,
   "metadata": {
    "ExecuteTime": {
     "end_time": "2022-04-22T02:12:35.969047Z",
     "start_time": "2022-04-21T21:53:52.084688Z"
    }
   },
   "outputs": [],
   "source": [
    "recommendations = {}\n",
    "\n",
    "for m in methods:\n",
    "    recommendations[m] = {}\n",
    "\n",
    "X = preds[['user', 'item']].to_numpy()\n",
    "for user_id in np.unique(X[:,0]):\n",
    "    indices = np.where(X[:,0] == user_id)[0]\n",
    "    \n",
    "    for m in methods:\n",
    "        user_pred = np.array([preds[m].to_numpy()[i] for i in indices])\n",
    "        user_rec = [indices[pos] for pos in np.argsort(user_pred)[::-1]]\n",
    "        recommendations[m][user_id] = user_rec"
   ]
  },
  {
   "cell_type": "code",
   "execution_count": null,
   "metadata": {
    "ExecuteTime": {
     "end_time": "2022-04-22T02:12:35.975769Z",
     "start_time": "2022-04-22T02:12:35.972041Z"
    }
   },
   "outputs": [],
   "source": [
    "num_recommendations = [2,3,4,5,6,7,8,9,10]"
   ]
  },
  {
   "cell_type": "markdown",
   "metadata": {},
   "source": [
    "#### Precision, recall and F1"
   ]
  },
  {
   "cell_type": "code",
   "execution_count": null,
   "metadata": {
    "ExecuteTime": {
     "end_time": "2022-04-22T02:18:55.190608Z",
     "start_time": "2022-04-22T02:18:55.183345Z"
    }
   },
   "outputs": [],
   "source": [
    "def recommender_precision_recall(recommendations, y_true, y_pred, N, threshold):\n",
    "    precision = 0\n",
    "    recall = 0\n",
    "    count = 0\n",
    "    \n",
    "    for user_id, indices in recommendations.items():\n",
    "\n",
    "        valid_user = False\n",
    "        rec_true = np.zeros(len(indices))\n",
    "        rec_pred = np.zeros(len(indices))\n",
    "        \n",
    "        for i, index in enumerate(indices):\n",
    "            \n",
    "            if y_true[index] >= threshold:\n",
    "                rec_true[i] = 1\n",
    "                valid_user = True\n",
    "                \n",
    "            if i < N and y_pred[index] >= threshold:\n",
    "                rec_pred[i] = 1\n",
    "                \n",
    "        if valid_user:\n",
    "            precision += precision_score(rec_true, rec_pred, zero_division=0)\n",
    "            recall += recall_score(rec_true, rec_pred)\n",
    "            count += 1\n",
    "        \n",
    "    return precision/count, recall/count"
   ]
  },
  {
   "cell_type": "code",
   "execution_count": null,
   "metadata": {
    "ExecuteTime": {
     "end_time": "2022-04-22T13:28:04.429624Z",
     "start_time": "2022-04-22T02:18:55.192598Z"
    }
   },
   "outputs": [],
   "source": [
    "precision = {}\n",
    "recall = {}\n",
    "f1 = {}\n",
    "\n",
    "for m in methods:\n",
    "    print(m)\n",
    "    \n",
    "    precision[m] = np.zeros(len(num_recommendations))\n",
    "    recall[m] = np.zeros(len(num_recommendations))\n",
    "    \n",
    "    for i, n in enumerate(num_recommendations):\n",
    "        y_pred = preds[m].to_numpy()\n",
    "        precision[m][i], recall[m][i] = recommender_precision_recall(recommendations[m], y_true, y_pred, n, like_threshold) \n",
    "\n",
    "    f1[m] = 2 * precision[m] * recall[m] / (precision[m] + recall[m])"
   ]
  },
  {
   "cell_type": "code",
   "execution_count": null,
   "metadata": {
    "ExecuteTime": {
     "end_time": "2022-04-22T13:28:05.211414Z",
     "start_time": "2022-04-22T13:28:04.432475Z"
    }
   },
   "outputs": [],
   "source": [
    "for m in methods:\n",
    "    c = 'blue' if 'deepmf' in m else 'red'\n",
    "    alpha = 1 if m[0] == 'v' else 0.6\n",
    "    ls = '-' if m[0] == 'v' else '--'\n",
    "        \n",
    "    plt.plot(recall[m], precision[m], c=c, ls=ls, alpha=alpha, label=m)\n",
    "\n",
    "    if m == 'vdeepmf':\n",
    "        for i,(r,p) in enumerate(zip(recall[m], precision[m])):\n",
    "            plt.annotate(num_recommendations[i], (r,p), textcoords=\"offset points\", xytext=(5,5), ha='center')\n",
    "    \n",
    "plt.xlabel('Recall', fontsize=15); \n",
    "plt.ylabel('Precision', fontsize=15)\n",
    "\n",
    "plt.xticks(fontsize=13)\n",
    "plt.yticks(fontsize=13)\n",
    "\n",
    "plt.legend(bbox_to_anchor=(0,1.02,1,0.2), fontsize=12, loc=\"lower left\", mode=\"expand\", borderaxespad=0, ncol=len(methods), handlelength=1.2)\n",
    "\n",
    "plt.grid(True)\n",
    "\n",
    "ylim_min, ylim_max = plt.ylim()\n",
    "plt.ylim((ylim_min, ylim_max * 1.02))\n",
    "\n",
    "plt.savefig('./results/' + dataset + '-precision-recall.png', dpi=300)\n",
    "\n",
    "plt.show()"
   ]
  },
  {
   "cell_type": "code",
   "execution_count": null,
   "metadata": {
    "ExecuteTime": {
     "end_time": "2022-04-22T13:28:05.911153Z",
     "start_time": "2022-04-22T13:28:05.214145Z"
    }
   },
   "outputs": [],
   "source": [
    "for m in methods:\n",
    "    c = 'blue' if 'deepmf' in m else 'red'\n",
    "    alpha = 1 if m[0] == 'v' else 0.6\n",
    "    ls = '-' if m[0] == 'v' else '--'\n",
    "\n",
    "    plt.plot(num_recommendations, f1[m], c=c, ls=ls, alpha=alpha, label=m)\n",
    "\n",
    "plt.xlabel('Number of recommendations', fontsize=15); \n",
    "plt.ylabel('F1', fontsize=15)\n",
    "\n",
    "plt.xticks(fontsize=13)\n",
    "plt.yticks(fontsize=13)\n",
    "\n",
    "plt.legend(bbox_to_anchor=(0,1.02,1,0.2), fontsize=12, loc=\"lower left\", mode=\"expand\", borderaxespad=0, ncol=len(methods), handlelength=1.2)\n",
    "\n",
    "plt.grid(True)\n",
    "\n",
    "ylim_min, ylim_max = plt.ylim()\n",
    "plt.ylim((ylim_min, ylim_max * 1.02))\n",
    "\n",
    "plt.savefig('./results/' + dataset + '-f1.png', dpi=300)\n",
    "\n",
    "plt.show()"
   ]
  },
  {
   "cell_type": "markdown",
   "metadata": {},
   "source": [
    "#### Novelty"
   ]
  },
  {
   "cell_type": "code",
   "execution_count": null,
   "metadata": {
    "ExecuteTime": {
     "end_time": "2022-04-22T02:12:35.985235Z",
     "start_time": "2022-04-22T02:12:35.978243Z"
    }
   },
   "outputs": [],
   "source": [
    "def recommender_novelty(recommendations, y_true, y_pred, num_recommendations):\n",
    "    novelty = np.zeros(len(num_recommendations))\n",
    "    count = np.zeros(len(num_recommendations))\n",
    "    \n",
    "    bincount = np.bincount(X_test[1])\n",
    "    \n",
    "    for user_id, indices in recommendations.items():\n",
    "        for i, n in enumerate(num_recommendations):\n",
    "            for index in indices[:n]:\n",
    "                item_id = X_test[1][index]\n",
    "                num_item_ratings = bincount[item_id] \n",
    "                total_num_ratings = len(X_test[1])\n",
    "                pi = num_item_ratings / total_num_ratings  \n",
    "                novelty[i] += -math.log(pi,2)\n",
    "                count[i] += 1\n",
    "        \n",
    "    return novelty/count"
   ]
  },
  {
   "cell_type": "code",
   "execution_count": null,
   "metadata": {
    "ExecuteTime": {
     "end_time": "2022-04-22T02:18:55.180856Z",
     "start_time": "2022-04-22T02:12:35.987354Z"
    }
   },
   "outputs": [],
   "source": [
    "for m in methods:    \n",
    "    print(m)\n",
    "    \n",
    "    y_pred = preds[m].to_numpy()\n",
    "    novelty = recommender_novelty(recommendations[m], y_true, y_pred, num_recommendations) \n",
    "\n",
    "    c = 'blue' if 'deepmf' in m else 'red'\n",
    "    alpha = 1 if m[0] == 'v' else 0.6\n",
    "    ls = '-' if m[0] == 'v' else '--'\n",
    "            \n",
    "    plt.plot(num_recommendations, novelty, c=c, ls=ls, alpha=alpha, label=m)\n",
    "\n",
    "plt.xlabel('Number of recommendations', fontsize=15); \n",
    "plt.ylabel('Novelty', fontsize=15)\n",
    "\n",
    "plt.xticks(fontsize=13)\n",
    "plt.yticks(fontsize=13)\n",
    "\n",
    "plt.legend(bbox_to_anchor=(0,1.02,1,0.2), fontsize=12, loc=\"lower left\", mode=\"expand\", borderaxespad=0, ncol=len(methods), handlelength=1.2)\n",
    "\n",
    "plt.grid(True)\n",
    "\n",
    "ylim_min, ylim_max = plt.ylim()\n",
    "plt.ylim((ylim_min, ylim_max * 1.02))\n",
    "\n",
    "plt.savefig('./results/' + dataset + '-novelty.png', dpi=300)\n",
    "\n",
    "plt.show()"
   ]
  },
  {
   "cell_type": "markdown",
   "metadata": {},
   "source": [
    "#### NDCG"
   ]
  },
  {
   "cell_type": "code",
   "execution_count": null,
   "metadata": {
    "ExecuteTime": {
     "end_time": "2022-04-22T13:28:05.919512Z",
     "start_time": "2022-04-22T13:28:05.913261Z"
    }
   },
   "outputs": [],
   "source": [
    "def recommender_ndcg(recommendations, y_true, y_pred, N):\n",
    "    ndcg = 0\n",
    "    count = 0\n",
    "    \n",
    "    for indices in recommendations.values():     \n",
    "        if len(indices) > 1:\n",
    "            user_true = np.array([y_true[i] for i in indices])\n",
    "            user_pred = np.array([y_pred[i] for i in indices])  \n",
    "                \n",
    "            user_true = np.expand_dims(user_true, axis=0)\n",
    "            user_pred = np.expand_dims(user_pred, axis=0)\n",
    "\n",
    "            ndcg += ndcg_score(user_true, user_pred, k=N, ignore_ties=False)\n",
    "            count += 1\n",
    "    \n",
    "    return ndcg / count"
   ]
  },
  {
   "cell_type": "code",
   "execution_count": null,
   "metadata": {
    "ExecuteTime": {
     "end_time": "2022-04-22T16:43:47.612081Z",
     "start_time": "2022-04-22T13:28:05.921597Z"
    }
   },
   "outputs": [],
   "source": [
    "for m in methods:\n",
    "    print(m)\n",
    "    \n",
    "    ndcg = np.zeros(len(num_recommendations))\n",
    "    \n",
    "    for i, n in enumerate(num_recommendations):\n",
    "        y_pred = preds[m].to_numpy()\n",
    "        ndcg[i] = recommender_ndcg(recommendations[m], y_true, y_pred, n) \n",
    "        \n",
    "    c = 'blue' if 'deepmf' in m else 'red'\n",
    "    alpha = 1 if m[0] == 'v' else 0.6\n",
    "    ls = '-' if m[0] == 'v' else '--'\n",
    " \n",
    "    plt.plot(num_recommendations, ndcg, c=c, ls=ls, alpha=alpha, label=m)\n",
    "\n",
    "plt.xlabel('Number of recommendations', fontsize=15); \n",
    "plt.ylabel('NDCG', fontsize=15)\n",
    "\n",
    "plt.xticks(fontsize=13)\n",
    "plt.yticks(fontsize=13)\n",
    "\n",
    "plt.legend(bbox_to_anchor=(0,1.02,1,0.2), fontsize=12, loc=\"lower left\", mode=\"expand\", borderaxespad=0, ncol=len(methods), handlelength=1.2)\n",
    "\n",
    "plt.grid(True)\n",
    "\n",
    "plt.savefig('./results/' + dataset + '-ndcg.png', dpi=300)\n",
    "\n",
    "plt.show()"
   ]
  }
 ],
 "metadata": {
  "interpreter": {
   "hash": "31f2aee4e71d21fbe5cf8b01ff0e069b9275f58929596ceb00d14d90e3e16cd6"
  },
  "kernelspec": {
   "display_name": "Python 3",
   "language": "python",
   "name": "python3"
  },
  "language_info": {
   "codemirror_mode": {
    "name": "ipython",
    "version": 3
   },
   "file_extension": ".py",
   "mimetype": "text/x-python",
   "name": "python",
   "nbconvert_exporter": "python",
   "pygments_lexer": "ipython3",
   "version": "3.8.5"
  },
  "toc": {
   "base_numbering": 1,
   "nav_menu": {},
   "number_sections": false,
   "sideBar": true,
   "skip_h1_title": false,
   "title_cell": "Table of Contents",
   "title_sidebar": "Contents",
   "toc_cell": false,
   "toc_position": {},
   "toc_section_display": true,
   "toc_window_display": false
  }
 },
 "nbformat": 4,
 "nbformat_minor": 4
}
